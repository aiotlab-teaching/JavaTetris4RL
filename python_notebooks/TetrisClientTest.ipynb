{
 "cells": [
  {
   "cell_type": "code",
   "execution_count": 1,
   "id": "36b20780",
   "metadata": {},
   "outputs": [],
   "source": [
    "import socket\n",
    "import matplotlib.pyplot as plt\n",
    "import numpy as np\n",
    "import cv2\n",
    "import random"
   ]
  },
  {
   "cell_type": "code",
   "execution_count": 2,
   "id": "70f3ad05",
   "metadata": {},
   "outputs": [],
   "source": [
    "def get_tetris_server_response(sock):\n",
    "    is_game_over = (sock.recv(1) == b'\\x01')\n",
    "    removed_lines = int.from_bytes(sock.recv(4), 'big')\n",
    "    height = int.from_bytes(sock.recv(4), 'big')\n",
    "    holes = int.from_bytes(sock.recv(4), 'big')\n",
    "    img_size = int.from_bytes(sock.recv(4), 'big')\n",
    "    img_png = sock.recv(img_size)\n",
    "    \n",
    "    nparr = np.frombuffer(img_png, np.uint8)\n",
    "    np_image = cv2.imdecode(nparr, -1)\n",
    "    \n",
    "    return is_game_over, removed_lines, height, holes, np_image"
   ]
  },
  {
   "cell_type": "code",
   "execution_count": 3,
   "id": "85b640b2",
   "metadata": {},
   "outputs": [],
   "source": [
    "HOST = \"127.0.0.1\"  \n",
    "PORT = 10612 \n",
    "\n",
    "sock = socket.socket(socket.AF_INET, socket.SOCK_STREAM)\n",
    "sock.connect((HOST, PORT))\n",
    "    "
   ]
  },
  {
   "cell_type": "code",
   "execution_count": 4,
   "id": "d84597bd",
   "metadata": {},
   "outputs": [],
   "source": [
    "sock.sendall(b\"start\\n\")\n",
    "is_game_over, removed_lines, height, holes, screen_img = get_tetris_server_response(sock)"
   ]
  },
  {
   "cell_type": "code",
   "execution_count": 5,
   "id": "c22752ab",
   "metadata": {},
   "outputs": [
    {
     "name": "stdout",
     "output_type": "stream",
     "text": [
      "<class 'numpy.ndarray'>\n"
     ]
    },
    {
     "data": {
      "text/plain": [
       "(200, 100, 3)"
      ]
     },
     "execution_count": 5,
     "metadata": {},
     "output_type": "execute_result"
    }
   ],
   "source": [
    "print(type(screen_img))\n",
    "screen_img.shape"
   ]
  },
  {
   "cell_type": "code",
   "execution_count": 6,
   "id": "5342713d",
   "metadata": {},
   "outputs": [
    {
     "data": {
      "text/plain": [
       "<matplotlib.image.AxesImage at 0x24897c15eb0>"
      ]
     },
     "execution_count": 6,
     "metadata": {},
     "output_type": "execute_result"
    },
    {
     "data": {
      "image/png": "[encoded data removed]",
      "text/plain": [
       "<Figure size 432x288 with 1 Axes>"
      ]
     },
     "metadata": {
      "needs_background": "light"
     },
     "output_type": "display_data"
    }
   ],
   "source": [
    "%matplotlib inline \n",
    "plt.imshow(screen_img)"
   ]
  },
  {
   "cell_type": "code",
   "execution_count": 7,
   "id": "cab61f02",
   "metadata": {},
   "outputs": [],
   "source": [
    "sock.sendall(b\"move -1\\n\")\n",
    "is_game_over, removed_lines, height, holes, screen_img = get_tetris_server_response(sock)"
   ]
  },
  {
   "cell_type": "code",
   "execution_count": 8,
   "id": "de7160c5",
   "metadata": {},
   "outputs": [
    {
     "data": {
      "text/plain": [
       "<matplotlib.image.AxesImage at 0x248983a7280>"
      ]
     },
     "execution_count": 8,
     "metadata": {},
     "output_type": "execute_result"
    },
    {
     "data": {
      "image/png": "[encoded data removed]",
      "text/plain": [
       "<Figure size 432x288 with 1 Axes>"
      ]
     },
     "metadata": {
      "needs_background": "light"
     },
     "output_type": "display_data"
    }
   ],
   "source": [
    "%matplotlib inline \n",
    "plt.imshow(screen_img)"
   ]
  },
  {
   "cell_type": "code",
   "execution_count": 9,
   "id": "f8cd61ef",
   "metadata": {},
   "outputs": [],
   "source": [
    "sock.sendall(b\"drop\\n\")\n",
    "is_game_over, removed_lines, height, holes, screen_img = get_tetris_server_response(sock)"
   ]
  },
  {
   "cell_type": "code",
   "execution_count": 10,
   "id": "17a079d2",
   "metadata": {},
   "outputs": [
    {
     "data": {
      "text/plain": [
       "<matplotlib.image.AxesImage at 0x24898415250>"
      ]
     },
     "execution_count": 10,
     "metadata": {},
     "output_type": "execute_result"
    },
    {
     "data": {
      "image/png": "[encoded data removed]",
      "text/plain": [
       "<Figure size 432x288 with 1 Axes>"
      ]
     },
     "metadata": {
      "needs_background": "light"
     },
     "output_type": "display_data"
    }
   ],
   "source": [
    "%matplotlib inline \n",
    "plt.imshow(screen_img)"
   ]
  },
  {
   "cell_type": "code",
   "execution_count": 11,
   "id": "e9f55489",
   "metadata": {},
   "outputs": [
    {
     "name": "stdout",
     "output_type": "stream",
     "text": [
      "Lines:  0   Height:  3   Holes:  1\n"
     ]
    }
   ],
   "source": [
    "print('Lines: ', removed_lines, '  Height: ', height, '  Holes: ', holes)"
   ]
  },
  {
   "cell_type": "code",
   "execution_count": 12,
   "id": "50c0a21d",
   "metadata": {},
   "outputs": [],
   "source": [
    "sock.sendall(b\"rotate 0\\n\")\n",
    "is_game_over, removed_lines, height, holes, screen_img = get_tetris_server_response(sock)"
   ]
  },
  {
   "cell_type": "code",
   "execution_count": 13,
   "id": "3a102fa0",
   "metadata": {},
   "outputs": [
    {
     "data": {
      "text/plain": [
       "<matplotlib.image.AxesImage at 0x24898473e20>"
      ]
     },
     "execution_count": 13,
     "metadata": {},
     "output_type": "execute_result"
    },
    {
     "data": {
      "image/png": "[encoded data removed]",
      "text/plain": [
       "<Figure size 432x288 with 1 Axes>"
      ]
     },
     "metadata": {
      "needs_background": "light"
     },
     "output_type": "display_data"
    }
   ],
   "source": [
    "%matplotlib inline \n",
    "plt.imshow(screen_img)"
   ]
  },
  {
   "cell_type": "code",
   "execution_count": 14,
   "id": "db0a6133",
   "metadata": {},
   "outputs": [
    {
     "data": {
      "text/plain": [
       "<matplotlib.image.AxesImage at 0x248984d9c10>"
      ]
     },
     "execution_count": 14,
     "metadata": {},
     "output_type": "execute_result"
    },
    {
     "data": {
      "image/png": "[encoded data removed]",
      "text/plain": [
       "<Figure size 432x288 with 1 Axes>"
      ]
     },
     "metadata": {
      "needs_background": "light"
     },
     "output_type": "display_data"
    }
   ],
   "source": [
    "sock.sendall(b\"drop\\n\")\n",
    "is_game_over, removed_lines, height, holes, screen_img = get_tetris_server_response(sock)\n",
    "%matplotlib inline \n",
    "plt.imshow(screen_img)"
   ]
  },
  {
   "cell_type": "code",
   "execution_count": 15,
   "id": "44261c23",
   "metadata": {},
   "outputs": [
    {
     "name": "stdout",
     "output_type": "stream",
     "text": [
      "Random play test: Steps 41, lines 0\n"
     ]
    },
    {
     "data": {
      "text/plain": [
       "<matplotlib.image.AxesImage at 0x24898535e50>"
      ]
     },
     "execution_count": 15,
     "metadata": {},
     "output_type": "execute_result"
    },
    {
     "data": {
      "image/png": "[encoded data removed]",
      "text/plain": [
       "<Figure size 432x288 with 1 Axes>"
      ]
     },
     "metadata": {
      "needs_background": "light"
     },
     "output_type": "display_data"
    }
   ],
   "source": [
    "sock.sendall(b\"start\\n\")\n",
    "is_game_over, removed_lines, height, holes, screen_img = get_tetris_server_response(sock)\n",
    "\n",
    "steps = 0\n",
    "while is_game_over == False:\n",
    "    action_id = random.randint(0, 4)\n",
    "    \n",
    "    if action_id == 0:\n",
    "        action_cmd = b'move -1\\n'\n",
    "    elif action_id == 1:\n",
    "        action_cmd = b'move 1\\n'\n",
    "    elif action_id == 2:\n",
    "        action_cmd = b'rotate 0\\n'\n",
    "    elif action_id == 3:\n",
    "        action_cmd = b'rotate 1\\n'\n",
    "    else:\n",
    "        action_cmd = b'drop\\n'\n",
    "        \n",
    "    steps = steps + 1\n",
    "    sock.sendall(action_cmd)\n",
    "    is_game_over, removed_lines, height, holes, screen_img = get_tetris_server_response(sock)\n",
    "\n",
    "print(f\"Random play test: Steps {steps}, lines {removed_lines}\")\n",
    "\n",
    "%matplotlib inline \n",
    "plt.imshow(screen_img)"
   ]
  },
  {
   "cell_type": "code",
   "execution_count": 16,
   "id": "6e9e7581",
   "metadata": {},
   "outputs": [
    {
     "name": "stdout",
     "output_type": "stream",
     "text": [
      "Lines:  0   Height:  20   Holes:  28\n"
     ]
    }
   ],
   "source": [
    "print('Lines: ', removed_lines, '  Height: ', height, '  Holes: ', holes)"
   ]
  },
  {
   "cell_type": "markdown",
   "id": "567cfd14",
   "metadata": {},
   "source": [
    "## Note! Due to request-response pattern, server will upadate automatically per client request.\n",
    "## Therefore, new_piece command will drop down current piece and create new piece later\n"
   ]
  },
  {
   "cell_type": "code",
   "execution_count": 17,
   "id": "83fabe8a",
   "metadata": {},
   "outputs": [],
   "source": [
    "sock.sendall(b\"start\\n\")"
   ]
  },
  {
   "cell_type": "code",
   "execution_count": 18,
   "id": "51c35443",
   "metadata": {},
   "outputs": [
    {
     "name": "stdout",
     "output_type": "stream",
     "text": [
      "Total removed lines: 2\n"
     ]
    }
   ],
   "source": [
    "for y in [0,1]:\n",
    "    for x in range(-6, 6, 2):\n",
    "\n",
    "        sock.sendall(b\"new_piece 5\\n\")\n",
    "        is_game_over, removed_lines, height, holes, screen_img = get_tetris_server_response(sock)\n",
    "\n",
    "        cv2.imshow(\"Image\", screen_img)\n",
    "        cv2.waitKey(500)\n",
    "\n",
    "        cmd = \"move \" + str(x) + \"\\n\"\n",
    "        sock.sendall(cmd.encode('utf-8'))\n",
    "        is_game_over, removed_lines, height, holes, screen_img = get_tetris_server_response(sock)\n",
    "\n",
    "        cv2.imshow(\"Image\", screen_img)\n",
    "        cv2.waitKey(500)\n",
    "\n",
    "        #sock.sendall(b\"drop\\n\")\n",
    "        #is_game_over, removed_lines, screen_img = get_tetris_server_response(sock)\n",
    "    \n",
    "\n",
    "print(f\"Total removed lines: {removed_lines}\")\n",
    "cv2.destroyAllWindows()"
   ]
  },
  {
   "cell_type": "code",
   "execution_count": 19,
   "id": "a579ed3a",
   "metadata": {},
   "outputs": [
    {
     "data": {
      "text/plain": [
       "<matplotlib.image.AxesImage at 0x248985ad5e0>"
      ]
     },
     "execution_count": 19,
     "metadata": {},
     "output_type": "execute_result"
    },
    {
     "data": {
      "image/png": "[encoded data removed]",
      "text/plain": [
       "<Figure size 432x288 with 1 Axes>"
      ]
     },
     "metadata": {
      "needs_background": "light"
     },
     "output_type": "display_data"
    }
   ],
   "source": [
    "%matplotlib inline \n",
    "plt.imshow(screen_img)"
   ]
  },
  {
   "cell_type": "code",
   "execution_count": 20,
   "id": "852dd692",
   "metadata": {},
   "outputs": [
    {
     "name": "stdout",
     "output_type": "stream",
     "text": [
      "Lines:  2   Height:  7   Holes:  2\n"
     ]
    }
   ],
   "source": [
    "print('Lines: ', removed_lines, '  Height: ', height, '  Holes: ', holes)"
   ]
  },
  {
   "cell_type": "code",
   "execution_count": null,
   "id": "5725a8e8",
   "metadata": {},
   "outputs": [],
   "source": []
  }
 ],
 "metadata": {
  "kernelspec": {
   "display_name": "Python 3 (ipykernel)",
   "language": "python",
   "name": "python3"
  },
  "language_info": {
   "codemirror_mode": {
    "name": "ipython",
    "version": 3
   },
   "file_extension": ".py",
   "mimetype": "text/x-python",
   "name": "python",
   "nbconvert_exporter": "python",
   "pygments_lexer": "ipython3",
   "version": "3.9.12"
  }
 },
 "nbformat": 4,
 "nbformat_minor": 5
}
